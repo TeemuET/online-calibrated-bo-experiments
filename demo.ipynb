{
 "cells": [
  {
   "cell_type": "code",
   "execution_count": 1,
   "metadata": {},
   "outputs": [
    {
     "ename": "SyntaxError",
     "evalue": "unmatched '}' (113593610.py, line 18)",
     "output_type": "error",
     "traceback": [
      "\u001b[0;36m  Input \u001b[0;32mIn [1]\u001b[0;36m\u001b[0m\n\u001b[0;31m    \"n_initial\":10},mkdir=True)\u001b[0m\n\u001b[0m                  ^\u001b[0m\n\u001b[0;31mSyntaxError\u001b[0m\u001b[0;31m:\u001b[0m unmatched '}'\n"
     ]
    }
   ],
   "source": [
    "from src.parameters import Parameters\n",
    "from src.experiment import Experiment\n",
    "from imports.general import *\n",
    "from imports.ml import *\n",
    "\n",
    "#parameters = Parameters({\"surrogate\":\"RF\",\n",
    "#\"experiment\":\"1\",\n",
    "#\"acquisition\":\"EI\",\n",
    "#\"data_name\":\"benchmark\",\n",
    "#\"n_evals\":40,\n",
    "#\"recalibrate\":False,\n",
    "#\"bo\":True,\n",
    "#\"extensive_metrics\":True,\n",
    "#\"d\":3,\n",
    "#\"recal_mode\":\"cv\",\n",
    "#\"problem_idx\":5, \n",
    "#\"seed\":0 ,\n",
    "#\"n_initial\":10},mkdir=True)\n",
    "#experiment = Experiment(parameters)\n",
    "#experiment.run()"
   ]
  },
  {
   "cell_type": "code",
   "execution_count": null,
   "metadata": {},
   "outputs": [],
   "source": [
    "from src.parameters import Parameters\n",
    "from src.experiment import Experiment\n",
    "from src.dataset import Dataset\n",
    "from imports.general import *\n",
    "from imports.ml import *\n",
    "parameters = Parameters({\"surrogate\":\"RF\",\n",
    "\"data_name\":\"mnist\",\n",
    "\"seed\":0,\n",
    "\"bo\":True,},mkdir=True)\n",
    "experiment = Experiment(parameters)\n",
    "experiment.run()"
   ]
  },
  {
   "cell_type": "code",
   "execution_count": null,
   "metadata": {},
   "outputs": [],
   "source": [
    "plt.plot(experiment.metrics.summary[\"p_array\"],experiment.metrics.summary[\"y_calibration\"][0])\n",
    "plt.plot(experiment.metrics.summary[\"p_array\"],experiment.metrics.summary[\"y_calibration\"][1])\n",
    "plt.plot(experiment.metrics.summary[\"p_array\"],experiment.metrics.summary[\"p_array\"])\n"
   ]
  },
  {
   "cell_type": "code",
   "execution_count": null,
   "metadata": {},
   "outputs": [],
   "source": [
    "if parameters.d == 1:\n",
    "\tidx = np.argsort(experiment.dataset.data.X_test.squeeze())\n",
    "\tX_test = experiment.dataset.data.X_test[idx]\n",
    "\ty_test = experiment.dataset.data.y_test[idx]\n",
    "\tmu,sigma = experiment.optimizer.surrogate_object.predict(X_test)\n",
    "\tmu = mu.squeeze()\n",
    "\tsigma = 2*sigma.squeeze()\n",
    "\tfig = plt.figure()\n",
    "\tplt.plot(X_test, mu, marker=\".\")\n",
    "\tplt.fill_between(X_test.squeeze(), mu-sigma,mu+sigma,alpha=0.2)\n",
    "\tplt.plot(X_test, y_test,\"x\",alpha=0.2)\n",
    "\tplt.plot(experiment.dataset.data.X_train, experiment.dataset.data.y_train,\"o\")\n",
    "\n",
    "\tfig = plt.figure()\n",
    "\ta_vals = experiment.optimizer.acquisition_function(torch.from_numpy(np.expand_dims(X_test, 1))).cpu().detach().squeeze()\n",
    "\tplt.plot(X_test,a_vals)"
   ]
  },
  {
   "cell_type": "markdown",
   "metadata": {},
   "source": [
    "# 1. Extensive investigation"
   ]
  },
  {
   "cell_type": "code",
   "execution_count": null,
   "metadata": {},
   "outputs": [],
   "source": [
    "from figs.scripts.loader import Loader\n",
    "from figs.scripts.tables import Tables\n",
    "from figs.scripts.figures import Figures\n",
    "from imports.general import *\n",
    "from imports.ml import *\n",
    "loader = Loader()\n",
    "# loader.path2sql([\"results_regret_vs_calibration__\"])\n",
    "tables = Tables()\n",
    "figures = Figures()\n",
    "# # For paper:\n",
    "# Tabel 1:\n",
    "tables.table_linear_correlation(table_name=\"results_regret_vs_calibration__\")\n",
    "# # Tabel 2:\n",
    "# tables.table_linear_model(X_bo=False)\n",
    "# # Tabel 3:\n",
    "# tables.table_linear_model(X_bo=True)\n",
    "# # Figure 1:\n",
    "# figures.figure_regret_calibration(settings_x = {\"bo\": True, \"metric\": \"f_regret\"},\n",
    "#         settings_y = {\"bo\": True, \"metric\": \"y_calibration_mse\"},\n",
    "#         x_figsettings= {\"label\": r\"$\\mathcal{R}_I(f)$\", \"log\": True},\n",
    "#         y_figsettings= {\"label\": r\"$\\mathcal{C}_{BO}(y)$\", \"log\": True},)\n",
    "\n",
    "# figures.figure_regret_calibration(settings_x = {\"bo\": True, \"metric\": \"f_regret\"},\n",
    "#         settings_y = {\"bo\": False, \"metric\": \"y_calibration_mse\"},\n",
    "#         x_figsettings= {\"label\": r\"$\\mathcal{R}_I(f)$\", \"log\": True},\n",
    "        # y_figsettings= {\"label\": r\"$\\mathcal{C}_{R}(y)$\", \"log\": True},)\n",
    "\n",
    "\n"
   ]
  },
  {
   "cell_type": "code",
   "execution_count": null,
   "metadata": {},
   "outputs": [],
   "source": [
    "from figs.scripts.figures import Figures\n",
    "from figs.scripts.tables import Tables\n",
    "from imports.general import *\n",
    "from imports.ml import *\n",
    "figures = Figures()\n",
    "tables = Tables()\n",
    "loader = Loader()\n",
    "cnx = sqlite3.connect(\"./results.db\")\n",
    "table_name = \"results_regret_vs_calibration\"\n",
    "query = loader.dict2query(FROM=table_name, SELECT=[\"surrogate\"])\n",
    "df = pd.read_sql(query, cnx)\n",
    "surrogates = sorted(df[\"surrogate\"].unique())\n",
    "snr = 10\n",
    "markers = [\"o\", \"v\", \"s\", \"x\", \"d\"]\n",
    "colors = plt.cm.plasma(np.linspace(0, 1, len(markers)))\n",
    "\n",
    "row = \"\"\n",
    "for bo in [False, True]:\n",
    "    plt.figure()\n",
    "    for recal in [False]:\n",
    "        for i_s,surrogate in enumerate(surrogates):\n",
    "            x1 = pd.read_sql(\n",
    "                loader.dict2query(\n",
    "                    FROM=table_name,\n",
    "                    SELECT=[\n",
    "                        \"f_regret\",\n",
    "                        \"y_calibration_mse\",\n",
    "                    ],\n",
    "                    WHERE={\"bo\": bo, \"recalibrate\": recal, \"snr\": snr, \"std_change\":1.0, \"surrogate\":surrogate},\n",
    "                    ORDERBY=[\"seed\", \"d\", \"problem\", \"surrogate\",],\n",
    "                ),\n",
    "                cnx,\n",
    "            )\n",
    "            if surrogate not in [\"RS\",\"DS\"]:\n",
    "                x1 = x1.replace(\"NULL\", np.nan, regex=True)\n",
    "                x1 = x1.dropna(how=\"any\", axis=0)\n",
    "                x = x1[[\"y_calibration_mse\"]].to_numpy() + 1e-8\n",
    "                y = x1[[\"f_regret\"]].to_numpy() + 1e-8\n",
    "                rho,p_val  = pearsonr(x.squeeze(), y.squeeze())\n",
    "                print(surrogate,rho,p_val)\n",
    "                plt.plot(y,x,markers[i_s],color=colors[i_s])\n",
    "                plt.xscale(\"log\");\n",
    "                plt.yscale(\"log\");"
   ]
  },
  {
   "cell_type": "markdown",
   "metadata": {},
   "source": [
    "# 2. Change in predictive std"
   ]
  },
  {
   "cell_type": "code",
   "execution_count": null,
   "metadata": {},
   "outputs": [],
   "source": [
    "from figs.scripts.figures import Figures\n",
    "from figs.scripts.loader import Loader\n",
    "from imports.general import *\n",
    "from imports.ml import *\n",
    "figures = Figures()\n",
    "loader = Loader()\n",
    "# loader.path2sql([\"results_change_std\"])\n",
    "\n",
    "# figures.figure_std_vs_metric(settings={\n",
    "#             \"data_name\": \"benchmark\",\n",
    "#             \"epoch\": 90,\n",
    "#             \"snr\": 100,\n",
    "#             \"bo\": False,\n",
    "#         })\n",
    "# figures.figure_std_vs_metric(settings={\n",
    "#             \"data_name\": \"benchmark\",\n",
    "#             \"epoch\": 90,\n",
    "#             \"snr\": 100,\n",
    "#             \"bo\": True,\n",
    "#         })\n",
    "# figures.figure_std_vs_metric(settings={\n",
    "#             \"data_name\": \"benchmark\",\n",
    "#             \"epoch\": 90,\n",
    "#             \"snr\": 100,\n",
    "#             \"bo\": True,\n",
    "#         },y = \"f_regret\")\n",
    "figures.scatter_regret_calibration_std_change(average=True)\n"
   ]
  },
  {
   "cell_type": "markdown",
   "metadata": {},
   "source": [
    "# 3. The effect of the number of samples"
   ]
  },
  {
   "cell_type": "code",
   "execution_count": null,
   "metadata": {},
   "outputs": [],
   "source": [
    "from imports.general import *\n",
    "from imports.ml import *\n",
    "from theory_experiments.samples import SamplesExperiment\n",
    "exp = SamplesExperiment(big_plot=False)\n",
    "exp.run()"
   ]
  },
  {
   "cell_type": "markdown",
   "metadata": {},
   "source": [
    "# 4. Recalibration"
   ]
  },
  {
   "cell_type": "code",
   "execution_count": null,
   "metadata": {},
   "outputs": [],
   "source": [
    "from src.parameters import Parameters\n",
    "from src.recalibrator import Recalibrator\n",
    "from src.dataset import Dataset\n",
    "from src.metrics import Metrics\n",
    "from surrogates.gaussian_process import GaussianProcess\n",
    "\n",
    "parameters = Parameters({\"surrogate\":\"RF\",\n",
    "\"experiment\":\"1\",\n",
    "\"acquisition\":\"EI\",\n",
    "\"data_name\":\"benchmark\",\n",
    "\"n_evals\":50,\n",
    "\"n_test\":1000,\n",
    "\"snr\":10,\n",
    "\"xi\":0.0,\n",
    "\"bo\":True,\n",
    "\"problem_idx\":3, \n",
    "\"d\":1,\n",
    "\"seed\":0 ,\n",
    "\"n_initial\":10},mkdir=True)\n",
    "\n",
    "dataset = Dataset(parameters)\n",
    "model = GaussianProcess(parameters,dataset)\n",
    "recalibrator = Recalibrator(dataset,model,mode=\"iid\")\n",
    "\n",
    "model.fit(dataset.data.X_train,dataset.data.y_train)\n",
    "\n",
    "idx = np.argsort(dataset.data.X_test.squeeze())\n",
    "X_test = dataset.data.X_test[idx]\n",
    "y_test = dataset.data.y_test[idx]\n",
    "mus_,sigmas_ = model.predict(X_test)\n",
    "mus_ = mus_.squeeze()\n",
    "sigmas_ = sigmas_.squeeze()\n",
    "fig = plt.figure()\n",
    "plt.plot(X_test, mus_, marker=\".\")\n",
    "plt.fill_between(X_test.squeeze(), mus_-2*sigmas_,mus_+2*sigmas_,alpha=0.2)\n",
    "plt.plot(X_test, y_test,\"x\",alpha=0.2)\n",
    "plt.plot(dataset.data.X_train, dataset.data.y_train,\"o\")\n",
    "\n",
    "mus,sigmas = recalibrator.recalibrate(mus_,sigmas_)\n",
    "fig = plt.figure()\n",
    "plt.plot(X_test, mus, marker=\".\")\n",
    "plt.fill_between(X_test.squeeze(), mus-2*sigmas,mus+2*sigmas,alpha=0.2)\n",
    "plt.plot(X_test, y_test,\"x\",alpha=0.2)\n",
    "plt.plot(dataset.data.X_train, dataset.data.y_train,\"o\")\n",
    "\n",
    "metrics = Metrics(parameters)\n",
    "\n",
    "metrics.calibration_y_batched(mus_,sigmas_,y_test)\n",
    "y_calibration_bef = metrics.summary[\"y_calibration\"]\n",
    "\n",
    "metrics.calibration_y_batched(mus,sigmas,y_test)\n",
    "y_calibration_aft = metrics.summary[\"y_calibration\"]\n",
    "\n",
    "fig = plt.figure()\n",
    "plt.plot(metrics.summary[\"p_array\"],metrics.summary[\"p_array\"],\"--\")\n",
    "plt.plot(metrics.summary[\"p_array\"],y_calibration_bef,\"-x\",label=\"Before\")\n",
    "plt.plot(metrics.summary[\"p_array\"],y_calibration_aft,\"-s\",label=\"After\")\n",
    "plt.legend(); plt.xlabel(r\"Expected Confidence Interval\"); plt.ylabel(\"Observed Confidence Interval\");\n",
    "\n"
   ]
  },
  {
   "cell_type": "markdown",
   "metadata": {},
   "source": [
    "# 5. MNIST"
   ]
  },
  {
   "cell_type": "code",
   "execution_count": 2,
   "metadata": {},
   "outputs": [
    {
     "ename": "DatabaseError",
     "evalue": "Execution failed on sql 'SELECT surrogate FROM results_mnist;': no such table: results_mnist",
     "output_type": "error",
     "traceback": [
      "\u001b[0;31m---------------------------------------------------------------------------\u001b[0m",
      "\u001b[0;31mOperationalError\u001b[0m                          Traceback (most recent call last)",
      "File \u001b[0;32m/opt/homebrew/lib/python3.10/site-packages/pandas/io/sql.py:2020\u001b[0m, in \u001b[0;36mSQLiteDatabase.execute\u001b[0;34m(self, *args, **kwargs)\u001b[0m\n\u001b[1;32m   2019\u001b[0m \u001b[38;5;28;01mtry\u001b[39;00m:\n\u001b[0;32m-> 2020\u001b[0m     \u001b[43mcur\u001b[49m\u001b[38;5;241;43m.\u001b[39;49m\u001b[43mexecute\u001b[49m\u001b[43m(\u001b[49m\u001b[38;5;241;43m*\u001b[39;49m\u001b[43margs\u001b[49m\u001b[43m,\u001b[49m\u001b[43m \u001b[49m\u001b[38;5;241;43m*\u001b[39;49m\u001b[38;5;241;43m*\u001b[39;49m\u001b[43mkwargs\u001b[49m\u001b[43m)\u001b[49m\n\u001b[1;32m   2021\u001b[0m     \u001b[38;5;28;01mreturn\u001b[39;00m cur\n",
      "\u001b[0;31mOperationalError\u001b[0m: no such table: results_mnist",
      "\nThe above exception was the direct cause of the following exception:\n",
      "\u001b[0;31mDatabaseError\u001b[0m                             Traceback (most recent call last)",
      "Input \u001b[0;32mIn [2]\u001b[0m, in \u001b[0;36m<cell line: 11>\u001b[0;34m()\u001b[0m\n\u001b[1;32m      9\u001b[0m \u001b[38;5;66;03m# loader.path2sql([table_name],delete_existing=True)\u001b[39;00m\n\u001b[1;32m     10\u001b[0m tables \u001b[38;5;241m=\u001b[39m Tables()\n\u001b[0;32m---> 11\u001b[0m \u001b[43mtables\u001b[49m\u001b[38;5;241;43m.\u001b[39;49m\u001b[43mtable_real_data\u001b[49m\u001b[43m(\u001b[49m\u001b[43mtable_name\u001b[49m\u001b[38;5;241;43m=\u001b[39;49m\u001b[43mtable_name\u001b[49m\u001b[43m)\u001b[49m\n",
      "File \u001b[0;32m~/Documents/Projects/unibo/figs/scripts/tables.py:584\u001b[0m, in \u001b[0;36mTables.table_real_data\u001b[0;34m(self, table_name)\u001b[0m\n\u001b[1;32m    582\u001b[0m groups \u001b[38;5;241m=\u001b[39m \u001b[38;5;124m\"\u001b[39m\u001b[38;5;124msurrogate\u001b[39m\u001b[38;5;124m\"\u001b[39m\n\u001b[1;32m    583\u001b[0m query \u001b[38;5;241m=\u001b[39m \u001b[38;5;28mself\u001b[39m\u001b[38;5;241m.\u001b[39mdict2query(FROM\u001b[38;5;241m=\u001b[39mtable_name, SELECT\u001b[38;5;241m=\u001b[39m[groups])\n\u001b[0;32m--> 584\u001b[0m df \u001b[38;5;241m=\u001b[39m \u001b[43mpd\u001b[49m\u001b[38;5;241;43m.\u001b[39;49m\u001b[43mread_sql\u001b[49m\u001b[43m(\u001b[49m\u001b[43mquery\u001b[49m\u001b[43m,\u001b[49m\u001b[43m \u001b[49m\u001b[43mcnx\u001b[49m\u001b[43m)\u001b[49m\n\u001b[1;32m    585\u001b[0m groups_ \u001b[38;5;241m=\u001b[39m \u001b[38;5;28msorted\u001b[39m(df[groups]\u001b[38;5;241m.\u001b[39munique())\n\u001b[1;32m    586\u001b[0m \u001b[38;5;28;01mfor\u001b[39;00m recal \u001b[38;5;129;01min\u001b[39;00m [\u001b[38;5;28;01mFalse\u001b[39;00m, \u001b[38;5;28;01mTrue\u001b[39;00m]:\n",
      "File \u001b[0;32m/opt/homebrew/lib/python3.10/site-packages/pandas/io/sql.py:566\u001b[0m, in \u001b[0;36mread_sql\u001b[0;34m(sql, con, index_col, coerce_float, params, parse_dates, columns, chunksize)\u001b[0m\n\u001b[1;32m    563\u001b[0m pandas_sql \u001b[38;5;241m=\u001b[39m pandasSQL_builder(con)\n\u001b[1;32m    565\u001b[0m \u001b[38;5;28;01mif\u001b[39;00m \u001b[38;5;28misinstance\u001b[39m(pandas_sql, SQLiteDatabase):\n\u001b[0;32m--> 566\u001b[0m     \u001b[38;5;28;01mreturn\u001b[39;00m \u001b[43mpandas_sql\u001b[49m\u001b[38;5;241;43m.\u001b[39;49m\u001b[43mread_query\u001b[49m\u001b[43m(\u001b[49m\n\u001b[1;32m    567\u001b[0m \u001b[43m        \u001b[49m\u001b[43msql\u001b[49m\u001b[43m,\u001b[49m\n\u001b[1;32m    568\u001b[0m \u001b[43m        \u001b[49m\u001b[43mindex_col\u001b[49m\u001b[38;5;241;43m=\u001b[39;49m\u001b[43mindex_col\u001b[49m\u001b[43m,\u001b[49m\n\u001b[1;32m    569\u001b[0m \u001b[43m        \u001b[49m\u001b[43mparams\u001b[49m\u001b[38;5;241;43m=\u001b[39;49m\u001b[43mparams\u001b[49m\u001b[43m,\u001b[49m\n\u001b[1;32m    570\u001b[0m \u001b[43m        \u001b[49m\u001b[43mcoerce_float\u001b[49m\u001b[38;5;241;43m=\u001b[39;49m\u001b[43mcoerce_float\u001b[49m\u001b[43m,\u001b[49m\n\u001b[1;32m    571\u001b[0m \u001b[43m        \u001b[49m\u001b[43mparse_dates\u001b[49m\u001b[38;5;241;43m=\u001b[39;49m\u001b[43mparse_dates\u001b[49m\u001b[43m,\u001b[49m\n\u001b[1;32m    572\u001b[0m \u001b[43m        \u001b[49m\u001b[43mchunksize\u001b[49m\u001b[38;5;241;43m=\u001b[39;49m\u001b[43mchunksize\u001b[49m\u001b[43m,\u001b[49m\n\u001b[1;32m    573\u001b[0m \u001b[43m    \u001b[49m\u001b[43m)\u001b[49m\n\u001b[1;32m    575\u001b[0m \u001b[38;5;28;01mtry\u001b[39;00m:\n\u001b[1;32m    576\u001b[0m     _is_table_name \u001b[38;5;241m=\u001b[39m pandas_sql\u001b[38;5;241m.\u001b[39mhas_table(sql)\n",
      "File \u001b[0;32m/opt/homebrew/lib/python3.10/site-packages/pandas/io/sql.py:2080\u001b[0m, in \u001b[0;36mSQLiteDatabase.read_query\u001b[0;34m(self, sql, index_col, coerce_float, params, parse_dates, chunksize, dtype)\u001b[0m\n\u001b[1;32m   2068\u001b[0m \u001b[38;5;28;01mdef\u001b[39;00m \u001b[38;5;21mread_query\u001b[39m(\n\u001b[1;32m   2069\u001b[0m     \u001b[38;5;28mself\u001b[39m,\n\u001b[1;32m   2070\u001b[0m     sql,\n\u001b[0;32m   (...)\u001b[0m\n\u001b[1;32m   2076\u001b[0m     dtype: DtypeArg \u001b[38;5;241m|\u001b[39m \u001b[38;5;28;01mNone\u001b[39;00m \u001b[38;5;241m=\u001b[39m \u001b[38;5;28;01mNone\u001b[39;00m,\n\u001b[1;32m   2077\u001b[0m ):\n\u001b[1;32m   2079\u001b[0m     args \u001b[38;5;241m=\u001b[39m _convert_params(sql, params)\n\u001b[0;32m-> 2080\u001b[0m     cursor \u001b[38;5;241m=\u001b[39m \u001b[38;5;28;43mself\u001b[39;49m\u001b[38;5;241;43m.\u001b[39;49m\u001b[43mexecute\u001b[49m\u001b[43m(\u001b[49m\u001b[38;5;241;43m*\u001b[39;49m\u001b[43margs\u001b[49m\u001b[43m)\u001b[49m\n\u001b[1;32m   2081\u001b[0m     columns \u001b[38;5;241m=\u001b[39m [col_desc[\u001b[38;5;241m0\u001b[39m] \u001b[38;5;28;01mfor\u001b[39;00m col_desc \u001b[38;5;129;01min\u001b[39;00m cursor\u001b[38;5;241m.\u001b[39mdescription]\n\u001b[1;32m   2083\u001b[0m     \u001b[38;5;28;01mif\u001b[39;00m chunksize \u001b[38;5;129;01mis\u001b[39;00m \u001b[38;5;129;01mnot\u001b[39;00m \u001b[38;5;28;01mNone\u001b[39;00m:\n",
      "File \u001b[0;32m/opt/homebrew/lib/python3.10/site-packages/pandas/io/sql.py:2032\u001b[0m, in \u001b[0;36mSQLiteDatabase.execute\u001b[0;34m(self, *args, **kwargs)\u001b[0m\n\u001b[1;32m   2029\u001b[0m     \u001b[38;5;28;01mraise\u001b[39;00m ex \u001b[38;5;28;01mfrom\u001b[39;00m \u001b[38;5;21;01minner_exc\u001b[39;00m\n\u001b[1;32m   2031\u001b[0m ex \u001b[38;5;241m=\u001b[39m DatabaseError(\u001b[38;5;124mf\u001b[39m\u001b[38;5;124m\"\u001b[39m\u001b[38;5;124mExecution failed on sql \u001b[39m\u001b[38;5;124m'\u001b[39m\u001b[38;5;132;01m{\u001b[39;00margs[\u001b[38;5;241m0\u001b[39m]\u001b[38;5;132;01m}\u001b[39;00m\u001b[38;5;124m'\u001b[39m\u001b[38;5;124m: \u001b[39m\u001b[38;5;132;01m{\u001b[39;00mexc\u001b[38;5;132;01m}\u001b[39;00m\u001b[38;5;124m\"\u001b[39m)\n\u001b[0;32m-> 2032\u001b[0m \u001b[38;5;28;01mraise\u001b[39;00m ex \u001b[38;5;28;01mfrom\u001b[39;00m \u001b[38;5;21;01mexc\u001b[39;00m\n",
      "\u001b[0;31mDatabaseError\u001b[0m: Execution failed on sql 'SELECT surrogate FROM results_mnist;': no such table: results_mnist"
     ]
    }
   ],
   "source": [
    "# Make table\n",
    "from figs.scripts.figures import Figures\n",
    "from figs.scripts.tables import Tables\n",
    "from figs.scripts.loader import Loader\n",
    "from imports.general import *\n",
    "from imports.ml import *\n",
    "loader = Loader()\n",
    "table_name = \"results_mnist\"\n",
    "# loader.path2sql([table_name],delete_existing=True)\n",
    "tables = Tables()\n",
    "tables.table_real_data(table_name=table_name)"
   ]
  },
  {
   "cell_type": "code",
   "execution_count": null,
   "metadata": {},
   "outputs": [],
   "source": [
    "y_test = -np.load(\"./datasets/MNIST/optim_dataset/accuracies.npy\")\n",
    "y_test = (y_test-np.mean(y_test))/np.std(y_test)\n",
    "\n",
    "plt.hist(y_test,bins=100);\n",
    "plt.xlabel(\"standardized \");"
   ]
  },
  {
   "cell_type": "code",
   "execution_count": null,
   "metadata": {},
   "outputs": [],
   "source": [
    "np.random.seed(0)\n",
    "data = []\n",
    "data_t = []\n",
    "for e in range(100):\n",
    "\ty_rand = np.random.choice(y_test,size=100)\n",
    "\ty_rand = np.abs(y_rand - np.min(y_test))\n",
    "\tdata.append(np.min(y_rand))\n",
    "\tdata_t.append(np.sum(np.minimum.accumulate(y_rand)))\n",
    "\n",
    "print(np.mean(data),np.std(data))\n",
    "print(np.mean(data_t),np.std(data_t))\n"
   ]
  }
 ],
 "metadata": {
  "kernelspec": {
   "display_name": "Python 3 (ipykernel)",
   "language": "python",
   "name": "python3"
  },
  "language_info": {
   "codemirror_mode": {
    "name": "ipython",
    "version": 3
   },
   "file_extension": ".py",
   "mimetype": "text/x-python",
   "name": "python",
   "nbconvert_exporter": "python",
   "pygments_lexer": "ipython3",
   "version": "3.8.13"
  },
  "vscode": {
   "interpreter": {
    "hash": "1826efe53171d05f66a99b27d66e6a4b72e147c9c1a2bcfd372f6a4f8f6d6954"
   }
  }
 },
 "nbformat": 4,
 "nbformat_minor": 2
}
