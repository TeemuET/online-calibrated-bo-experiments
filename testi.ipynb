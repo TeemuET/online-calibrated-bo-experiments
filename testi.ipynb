{
 "cells": [
  {
   "cell_type": "code",
   "execution_count": 15,
   "id": "f858c826",
   "metadata": {},
   "outputs": [],
   "source": [
    "import numpy as np\n",
    "import json\n",
    "import matplotlib.pyplot as plt\n",
    "import os"
   ]
  },
  {
   "cell_type": "code",
   "execution_count": 20,
   "id": "f16ef84c",
   "metadata": {},
   "outputs": [],
   "source": [
    "def load_runs(experiment_folder, run_filter, results_path=\"results_synth_data/\"):\n",
    "    \"\"\"\n",
    "    Loads all runs from a specific folder that match a filter.\n",
    "\n",
    "    Args:\n",
    "        experiment_folder (str): The name of the folder inside results_path (e.g., 'Forrester_EI_OCBO').\n",
    "        run_filter (str): A string to filter the run directories inside the experiment_folder (e.g., 'eta09').\n",
    "        results_path (str, optional): The root path for results. Defaults to \"../results_synthetic_data/\".\n",
    "    \"\"\"\n",
    "    runs = []\n",
    "    # Construct the full path to the experiment directory\n",
    "    experiment_path = os.path.join(results_path, experiment_folder)\n",
    "    \n",
    "    if not os.path.isdir(experiment_path):\n",
    "        print(f\"Directory not found: {experiment_path}\")\n",
    "        return runs\n",
    "\n",
    "    for dir_name in os.listdir(experiment_path):\n",
    "        if run_filter in dir_name:\n",
    "            # Load metrics\n",
    "            metrics_path = os.path.join(experiment_path, dir_name, \"metrics.json\")\n",
    "            if not os.path.exists(metrics_path):\n",
    "                continue\n",
    "            with open(metrics_path) as f:\n",
    "                metrics = json.load(f)\n",
    "            # Load dataset\n",
    "            dataset_path = os.path.join(experiment_path, dir_name, \"dataset.json\")\n",
    "            if not os.path.exists(dataset_path):\n",
    "                continue\n",
    "            with open(dataset_path) as f:\n",
    "                dataset = json.load(f)\n",
    "            runs.append({\"metrics\": metrics, \"dataset\": dataset})\n",
    "    \n",
    "    # Rescale regret\n",
    "    for run in runs:\n",
    "        if \"y_std\" in run[\"dataset\"]:\n",
    "            y_std = run[\"dataset\"][\"y_std\"]\n",
    "            run[\"metrics\"][\"y_regret_pool_rescaled\"] = np.array(run[\"metrics\"][\"y_regret_pool\"]) * y_std\n",
    "        \n",
    "    # Extract calibration\n",
    "    for run in runs:\n",
    "        run[\"metrics\"][\"y_calibration_mse\"] = np.array(run[\"metrics\"][\"y_calibration_mse\"])\n",
    "        run[\"metrics\"][\"p_array\"] = np.array(run[\"metrics\"][\"p_array\"])\n",
    "        \n",
    "    print(f\"Loaded {len(runs)} runs from '{experiment_folder}' matching '{run_filter}'.\")\n",
    "    return runs"
   ]
  },
  {
   "cell_type": "code",
   "execution_count": 21,
   "id": "55fd999c",
   "metadata": {},
   "outputs": [],
   "source": [
    "def process_runs(runs):\n",
    "    \"\"\"\n",
    "    Calculates average and standard deviation for key metrics directly.\n",
    "    \"\"\"\n",
    "    if not runs:\n",
    "        return (None, None, None, None, None, None, None, None)\n",
    "\n",
    "    def _get_metric_stats(metric_key):\n",
    "        \"\"\"Helper to safely extract and process a single metric.\"\"\"\n",
    "        metric_data = [np.array(run[\"metrics\"].get(metric_key, [])) for run in runs]\n",
    "        metric_data = [m for m in metric_data if m.size > 0]\n",
    "        if not metric_data:\n",
    "            return None, None\n",
    "        \n",
    "        min_len = min(len(m) for m in metric_data)\n",
    "        metric_data = [m[:min_len] for m in metric_data]\n",
    "        \n",
    "        return np.mean(metric_data, axis=0), np.std(metric_data, axis=0)\n",
    "\n",
    "    avg_regret, std_regret = _get_metric_stats(\"y_regret_pool_rescaled\")\n",
    "    avg_cal_mse, std_cal_mse = _get_metric_stats(\"y_calibration_nmse\")\n",
    "    avg_neg_entropy, std_neg_entropy = _get_metric_stats(\"mean_negative_entropy\")\n",
    "    avg_sharpness, std_sharpness = _get_metric_stats(\"uncertainty_sharpness_(toolbox)\")\n",
    "\n",
    "    return (avg_regret, std_regret, avg_cal_mse, std_cal_mse, \n",
    "            avg_neg_entropy, std_neg_entropy, avg_sharpness, std_sharpness)"
   ]
  },
  {
   "cell_type": "code",
   "execution_count": 26,
   "id": "1acb69ad",
   "metadata": {},
   "outputs": [
    {
     "name": "stdout",
     "output_type": "stream",
     "text": [
      "Loaded 5 runs from 'Ackley_EI' matching 'ocbo'.\n",
      "Loaded 5 runs from 'Ackley_EI' matching '_bo'.\n"
     ]
    }
   ],
   "source": [
    "ackley_ei_ocbo = load_runs(\n",
    "    experiment_folder=\"Ackley_EI\",\n",
    "    run_filter=\"ocbo\"\n",
    ")\n",
    "\n",
    "ackley_ei_bo = load_runs(\n",
    "    experiment_folder=\"Ackley_EI\",\n",
    "    run_filter=\"_bo\"\n",
    ")"
   ]
  },
  {
   "cell_type": "code",
   "execution_count": 27,
   "id": "cab8a500",
   "metadata": {},
   "outputs": [],
   "source": [
    "(avg_regret_ackley_ocbo, avg_std_regret_ackley_ocbo,\n",
    " avg_cal_mse_ackley_ocbo, avg_std_cal_mse_ackley_ocbo,\n",
    " avg_neg_entropy_ackley_ocbo, avg_std_neg_entropy_ackley_ocbo,\n",
    " avg_sharpness_ackley_ocbo, avg_std_sharpness_ackley_ocbo) = process_runs(ackley_ei_ocbo)\n",
    "\n",
    "(avg_regret_ackly_bo, avg_std_regret_ackly_bo,\n",
    " avg_cal_mse_ackly_bo, avg_std_cal_mse_ackly_bo,\n",
    " avg_neg_entropy_ackly_bo, avg_std_neg_entropy_ackly_bo,\n",
    " avg_sharpness_ackly_bo, avg_std_sharpness_ackly_bo) = process_runs(ackley_ei_bo)\n"
   ]
  },
  {
   "cell_type": "code",
   "execution_count": null,
   "id": "fb327135",
   "metadata": {},
   "outputs": [],
   "source": []
  }
 ],
 "metadata": {
  "kernelspec": {
   "display_name": "venv",
   "language": "python",
   "name": "python3"
  },
  "language_info": {
   "codemirror_mode": {
    "name": "ipython",
    "version": 3
   },
   "file_extension": ".py",
   "mimetype": "text/x-python",
   "name": "python",
   "nbconvert_exporter": "python",
   "pygments_lexer": "ipython3",
   "version": "3.10.11"
  }
 },
 "nbformat": 4,
 "nbformat_minor": 5
}
