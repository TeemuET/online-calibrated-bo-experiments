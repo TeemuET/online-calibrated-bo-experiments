{
 "cells": [
  {
   "cell_type": "code",
   "execution_count": 2,
   "id": "fe14d5f1",
   "metadata": {},
   "outputs": [],
   "source": [
    "import json\n",
    "import os\n",
    "import numpy as np"
   ]
  },
  {
   "cell_type": "code",
   "execution_count": 44,
   "id": "e9e05102",
   "metadata": {},
   "outputs": [],
   "source": [
    "direct = \"results/FashionMNIST/\"\n",
    "hyperparam_list = []\n",
    "accuracies = []\n",
    "losses = []\n",
    "for filename in os.listdir(direct):\n",
    "    f = os.path.join(direct, filename)\n",
    "    f = open(f)\n",
    "    data = json.load(f)\n",
    "    hyperparam_list.extend(data[\"MNIST_results\"][\"hyperparams\"])\n",
    "    accuracies.extend(data[\"MNIST_results\"][\"accuracies\"])\n",
    "    #losses.extend(data[\"MNIST_results\"][\"valid_losses\"])"
   ]
  },
  {
   "cell_type": "code",
   "execution_count": 45,
   "id": "f4f62ebc",
   "metadata": {},
   "outputs": [],
   "source": [
    "hyperparams = np.array(hyperparam_list)\n",
    "accuracies = np.array(accuracies)\n",
    "#losses = np.array(losses)"
   ]
  },
  {
   "cell_type": "code",
   "execution_count": 16,
   "id": "9c83d9c3",
   "metadata": {},
   "outputs": [],
   "source": [
    "with open(\"datasets/SVM/optim_dataset/hyperparams.npy\", \"wb\") as f:\n",
    "    np.save(f, hyperparams)\n",
    "with open(\"datasets/SVM/optim_dataset/accuracies.npy\", \"wb\") as f:\n",
    "    np.save(f, accuracies)\n",
    "#with open(\"datasets/MNIST_CNN/optim_dataset/losses.npy\", \"wb\") as f:\n",
    "#    np.save(f, losses)"
   ]
  },
  {
   "cell_type": "code",
   "execution_count": 46,
   "id": "5ead6755",
   "metadata": {},
   "outputs": [
    {
     "name": "stdout",
     "output_type": "stream",
     "text": [
      "[271.          -6.35444444 232.          10.           0.        ]\n"
     ]
    }
   ],
   "source": [
    "print(hyperparams[np.argmax(accuracies)])"
   ]
  },
  {
   "cell_type": "code",
   "execution_count": 47,
   "id": "a5a8794a",
   "metadata": {},
   "outputs": [
    {
     "name": "stdout",
     "output_type": "stream",
     "text": [
      "[271.    -2.23 232.    10.     0.8 ]\n",
      "[  1.   -11.51   8.     1.     0.  ]\n"
     ]
    }
   ],
   "source": [
    "print(np.max(hyperparams, axis=0))\n",
    "print(np.min(hyperparams, axis=0))"
   ]
  },
  {
   "cell_type": "code",
   "execution_count": 43,
   "id": "e81c2f80",
   "metadata": {},
   "outputs": [
    {
     "data": {
      "text/plain": [
       "array([  8,  40,  72, 104, 136, 168, 200, 232])"
      ]
     },
     "execution_count": 43,
     "metadata": {},
     "output_type": "execute_result"
    }
   ],
   "source": [
    "np.arange(8, 256, 32)"
   ]
  },
  {
   "cell_type": "code",
   "execution_count": 49,
   "id": "bf43afaf",
   "metadata": {},
   "outputs": [
    {
     "name": "stdout",
     "output_type": "stream",
     "text": [
      "{1.0, 271.0, 241.0, 211.0, 181.0, 151.0, 121.0, 91.0, 61.0, 31.0}\n"
     ]
    }
   ],
   "source": [
    "print(set(hyperparams[:, 0]))"
   ]
  },
  {
   "cell_type": "code",
   "execution_count": 26,
   "id": "d41214df",
   "metadata": {},
   "outputs": [
    {
     "data": {
      "text/plain": [
       "array([ 1.,  2.,  3.,  4.,  5.,  6.,  7.,  8.,  9., 10.])"
      ]
     },
     "execution_count": 26,
     "metadata": {},
     "output_type": "execute_result"
    }
   ],
   "source": [
    "np.linspace(1, 10, 10)"
   ]
  },
  {
   "cell_type": "code",
   "execution_count": 50,
   "id": "5a2f63f2",
   "metadata": {},
   "outputs": [
    {
     "data": {
      "text/plain": [
       "array([  1.,  31.,  61.,  91., 121., 151., 181., 211., 241., 271.])"
      ]
     },
     "execution_count": 50,
     "metadata": {},
     "output_type": "execute_result"
    }
   ],
   "source": [
    "np.linspace(1, 271, 10)"
   ]
  },
  {
   "cell_type": "code",
   "execution_count": null,
   "id": "5570e793",
   "metadata": {},
   "outputs": [],
   "source": []
  }
 ],
 "metadata": {
  "kernelspec": {
   "display_name": "Python 3 (ipykernel)",
   "language": "python",
   "name": "python3"
  },
  "language_info": {
   "codemirror_mode": {
    "name": "ipython",
    "version": 3
   },
   "file_extension": ".py",
   "mimetype": "text/x-python",
   "name": "python",
   "nbconvert_exporter": "python",
   "pygments_lexer": "ipython3",
   "version": "3.10.8"
  },
  "vscode": {
   "interpreter": {
    "hash": "1826efe53171d05f66a99b27d66e6a4b72e147c9c1a2bcfd372f6a4f8f6d6954"
   }
  }
 },
 "nbformat": 4,
 "nbformat_minor": 5
}
