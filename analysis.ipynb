{
 "cells": [
  {
   "cell_type": "code",
   "execution_count": 1,
   "id": "ea9e5927",
   "metadata": {},
   "outputs": [],
   "source": [
    "import numpy as np\n",
    "import glob\n",
    "import json\n",
    "import matplotlib.pyplot as plt\n",
    "import os\n",
    "import pandas as pd"
   ]
  },
  {
   "cell_type": "code",
   "execution_count": null,
   "id": "81742f58",
   "metadata": {},
   "outputs": [],
   "source": [
    "def load_runs(results_folder, problem_idx):\n",
    "    problem_folder = os.path.join(results_folder, f\"problem_{problem_idx}\")\n",
    "    if not os.path.isdir(problem_folder):\n",
    "        raise ValueError(f\"Problem folder not found: {problem_folder}\")\n",
    "\n",
    "    seed_folders = [os.path.join(problem_folder, d) for d in os.listdir(problem_folder)\n",
    "                    if os.path.isdir(os.path.join(problem_folder, d)) and d.startswith(\"seed_\")]\n",
    "    \n",
    "    metrics_list = []\n",
    "    for seed_folder in seed_folders:\n",
    "        metrics_path = os.path.join(seed_folder, \"metrics.json\")\n",
    "        if os.path.isfile(metrics_path):\n",
    "            with open(metrics_path) as f:\n",
    "                metrics = json.load(f)\n",
    "            metrics_list.append(metrics)\n",
    "    \n",
    "    if not metrics_list:\n",
    "        raise ValueError(\"No metrics.json files found for this problem.\")\n",
    "\n",
    "    return metrics_list\n",
    "\n",
    "def average_metrics(metrics_list, metric_name):\n",
    "    \"\"\"\n",
    "    Averages a specific metric across different runs/seeds by iteration.\n",
    "\n",
    "    Args:\n",
    "        metrics_list (list): A list of metrics dictionaries from different runs.\n",
    "        metric_name (str): The name of the metric to average (e.g., 'y_regret_pool').\n",
    "\n",
    "    Returns:\n",
    "        tuple: A tuple containing:\n",
    "            - np.ndarray: The average of the metric per iteration.\n",
    "            - np.ndarray: The standard deviation of the metric per iteration.\n",
    "    \"\"\"\n",
    "    metric_values_all_runs = [metrics[metric_name] for metrics in metrics_list]\n",
    "    \n",
    "    # Ensure all runs have the same number of iterations\n",
    "    it_counts = [len(run) for run in metric_values_all_runs]\n",
    "    if len(set(it_counts)) > 1:\n",
    "        print(\"Warning: Runs have different numbers of iterations. Truncating to the shortest run.\")\n",
    "        min_its = min(it_counts)\n",
    "        metric_values_all_runs = [run[:min_its] for run in metric_values_all_runs]\n",
    "\n",
    "    metric_array = np.array(metric_values_all_runs)\n",
    "    num_runs = metric_array.shape[0]\n",
    "\n",
    "    avg_metric = np.mean(metric_array, axis=0)\n",
    "    std_metric = np.std(metric_array, axis=0)\n",
    "    std_err = std_metric / np.sqrt(num_runs)\n",
    "    \n",
    "    return avg_metric, std_metric, std_err"
   ]
  },
  {
   "cell_type": "code",
   "execution_count": 30,
   "id": "55670c43",
   "metadata": {},
   "outputs": [
    {
     "name": "stdout",
     "output_type": "stream",
     "text": [
      "0.9940339968509615\n",
      "1.2762338406615836\n",
      "0.5823877826021331\n",
      "0.9282537209441484\n",
      "1.5547865512581656\n"
     ]
    }
   ],
   "source": [
    "metrics_bo_ucb = load_runs(\"results/GP-Forrester-UCB-BO-q09\", 0)\n",
    "avg_regret, std_regret, std_err_regret = average_metrics(metrics_bo_ucb, \"y_regret_pool\")"
   ]
  },
  {
   "cell_type": "code",
   "execution_count": null,
   "id": "ff4980ec",
   "metadata": {},
   "outputs": [],
   "source": []
  }
 ],
 "metadata": {
  "kernelspec": {
   "display_name": "venv",
   "language": "python",
   "name": "python3"
  },
  "language_info": {
   "codemirror_mode": {
    "name": "ipython",
    "version": 3
   },
   "file_extension": ".py",
   "mimetype": "text/x-python",
   "name": "python",
   "nbconvert_exporter": "python",
   "pygments_lexer": "ipython3",
   "version": "3.10.11"
  }
 },
 "nbformat": 4,
 "nbformat_minor": 5
}
